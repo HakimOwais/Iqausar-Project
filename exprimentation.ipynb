{
 "cells": [
  {
   "cell_type": "code",
   "execution_count": 2,
   "metadata": {},
   "outputs": [
    {
     "name": "stdout",
     "output_type": "stream",
     "text": [
      "Defaulting to user installation because normal site-packages is not writeable\n",
      "\u001b[33mWARNING: Ignoring invalid distribution -atplotlib (/home/owais/.local/lib/python3.10/site-packages)\u001b[0m\u001b[33m\n",
      "\u001b[0m\u001b[33mWARNING: Ignoring invalid distribution -atplotlib (/home/owais/.local/lib/python3.10/site-packages)\u001b[0m\u001b[33m\n",
      "\u001b[0mCollecting langgraph\n",
      "  Downloading langgraph-0.0.55-py3-none-any.whl.metadata (23 kB)\n",
      "Requirement already satisfied: langchain-core<0.3,>=0.2 in /home/owais/.local/lib/python3.10/site-packages (from langgraph) (0.2.0)\n",
      "Collecting uuid6<2025.0.0,>=2024.1.12 (from langgraph)\n",
      "  Downloading uuid6-2024.1.12-py3-none-any.whl.metadata (8.6 kB)\n",
      "Requirement already satisfied: PyYAML>=5.3 in /home/owais/.local/lib/python3.10/site-packages (from langchain-core<0.3,>=0.2->langgraph) (6.0.1)\n",
      "Requirement already satisfied: jsonpatch<2.0,>=1.33 in /home/owais/.local/lib/python3.10/site-packages (from langchain-core<0.3,>=0.2->langgraph) (1.33)\n",
      "Requirement already satisfied: langsmith<0.2.0,>=0.1.0 in /home/owais/.local/lib/python3.10/site-packages (from langchain-core<0.3,>=0.2->langgraph) (0.1.60)\n",
      "Requirement already satisfied: packaging<24.0,>=23.2 in /home/owais/.local/lib/python3.10/site-packages (from langchain-core<0.3,>=0.2->langgraph) (23.2)\n",
      "Requirement already satisfied: pydantic<3,>=1 in /home/owais/.local/lib/python3.10/site-packages (from langchain-core<0.3,>=0.2->langgraph) (2.5.3)\n",
      "Requirement already satisfied: tenacity<9.0.0,>=8.1.0 in /home/owais/.local/lib/python3.10/site-packages (from langchain-core<0.3,>=0.2->langgraph) (8.2.3)\n",
      "Requirement already satisfied: jsonpointer>=1.9 in /home/owais/.local/lib/python3.10/site-packages (from jsonpatch<2.0,>=1.33->langchain-core<0.3,>=0.2->langgraph) (2.4)\n",
      "Requirement already satisfied: orjson<4.0.0,>=3.9.14 in /home/owais/.local/lib/python3.10/site-packages (from langsmith<0.2.0,>=0.1.0->langchain-core<0.3,>=0.2->langgraph) (3.10.3)\n",
      "Requirement already satisfied: requests<3,>=2 in /home/owais/.local/lib/python3.10/site-packages (from langsmith<0.2.0,>=0.1.0->langchain-core<0.3,>=0.2->langgraph) (2.31.0)\n",
      "Requirement already satisfied: annotated-types>=0.4.0 in /home/owais/.local/lib/python3.10/site-packages (from pydantic<3,>=1->langchain-core<0.3,>=0.2->langgraph) (0.6.0)\n",
      "Requirement already satisfied: pydantic-core==2.14.6 in /home/owais/.local/lib/python3.10/site-packages (from pydantic<3,>=1->langchain-core<0.3,>=0.2->langgraph) (2.14.6)\n",
      "Requirement already satisfied: typing-extensions>=4.6.1 in /home/owais/.local/lib/python3.10/site-packages (from pydantic<3,>=1->langchain-core<0.3,>=0.2->langgraph) (4.9.0)\n",
      "Requirement already satisfied: charset-normalizer<4,>=2 in /home/owais/.local/lib/python3.10/site-packages (from requests<3,>=2->langsmith<0.2.0,>=0.1.0->langchain-core<0.3,>=0.2->langgraph) (3.2.0)\n",
      "Requirement already satisfied: idna<4,>=2.5 in /home/owais/.local/lib/python3.10/site-packages (from requests<3,>=2->langsmith<0.2.0,>=0.1.0->langchain-core<0.3,>=0.2->langgraph) (3.6)\n",
      "Requirement already satisfied: urllib3<3,>=1.21.1 in /home/owais/.local/lib/python3.10/site-packages (from requests<3,>=2->langsmith<0.2.0,>=0.1.0->langchain-core<0.3,>=0.2->langgraph) (2.2.1)\n",
      "Requirement already satisfied: certifi>=2017.4.17 in /home/owais/.local/lib/python3.10/site-packages (from requests<3,>=2->langsmith<0.2.0,>=0.1.0->langchain-core<0.3,>=0.2->langgraph) (2023.7.22)\n",
      "Downloading langgraph-0.0.55-py3-none-any.whl (84 kB)\n",
      "\u001b[2K   \u001b[90m━━━━━━━━━━━━━━━━━━━━━━━━━━━━━━━━━━━━━━━━\u001b[0m \u001b[32m84.1/84.1 kB\u001b[0m \u001b[31m1.4 MB/s\u001b[0m eta \u001b[36m0:00:00\u001b[0ma \u001b[36m0:00:01\u001b[0m\n",
      "\u001b[?25hDownloading uuid6-2024.1.12-py3-none-any.whl (6.4 kB)\n",
      "\u001b[33mWARNING: Ignoring invalid distribution -atplotlib (/home/owais/.local/lib/python3.10/site-packages)\u001b[0m\u001b[33m\n",
      "\u001b[0mInstalling collected packages: uuid6, langgraph\n",
      "Successfully installed langgraph-0.0.55 uuid6-2024.1.12\n",
      "\u001b[33mWARNING: Ignoring invalid distribution -atplotlib (/home/owais/.local/lib/python3.10/site-packages)\u001b[0m\u001b[33m\n",
      "\u001b[0m"
     ]
    }
   ],
   "source": [
    "!pip install langgraph==0.0.55"
   ]
  },
  {
   "cell_type": "code",
   "execution_count": 1,
   "metadata": {},
   "outputs": [
    {
     "ename": "ModuleNotFoundError",
     "evalue": "No module named 'langgraph'",
     "output_type": "error",
     "traceback": [
      "\u001b[0;31m---------------------------------------------------------------------------\u001b[0m",
      "\u001b[0;31mModuleNotFoundError\u001b[0m                       Traceback (most recent call last)",
      "Cell \u001b[0;32mIn[1], line 12\u001b[0m\n\u001b[1;32m     10\u001b[0m \u001b[38;5;28;01mfrom\u001b[39;00m \u001b[38;5;21;01mlangchain\u001b[39;00m\u001b[38;5;21;01m.\u001b[39;00m\u001b[38;5;21;01mtools\u001b[39;00m\u001b[38;5;21;01m.\u001b[39;00m\u001b[38;5;21;01mrender\u001b[39;00m \u001b[38;5;28;01mimport\u001b[39;00m format_tool_to_openai_function\n\u001b[1;32m     11\u001b[0m \u001b[38;5;28;01mfrom\u001b[39;00m \u001b[38;5;21;01mlangchain_core\u001b[39;00m\u001b[38;5;21;01m.\u001b[39;00m\u001b[38;5;21;01mprompts\u001b[39;00m \u001b[38;5;28;01mimport\u001b[39;00m ChatPromptTemplate, MessagesPlaceholder\n\u001b[0;32m---> 12\u001b[0m \u001b[38;5;28;01mfrom\u001b[39;00m \u001b[38;5;21;01mlanggraph\u001b[39;00m\u001b[38;5;21;01m.\u001b[39;00m\u001b[38;5;21;01mgraph\u001b[39;00m \u001b[38;5;28;01mimport\u001b[39;00m END, StateGraph\n\u001b[1;32m     13\u001b[0m \u001b[38;5;28;01mfrom\u001b[39;00m \u001b[38;5;21;01mlanggraph\u001b[39;00m\u001b[38;5;21;01m.\u001b[39;00m\u001b[38;5;21;01mprebuilt\u001b[39;00m\u001b[38;5;21;01m.\u001b[39;00m\u001b[38;5;21;01mtool_executor\u001b[39;00m \u001b[38;5;28;01mimport\u001b[39;00m ToolExecutor, ToolInvocation\n",
      "\u001b[0;31mModuleNotFoundError\u001b[0m: No module named 'langgraph'"
     ]
    }
   ],
   "source": [
    "import json\n",
    "\n",
    "from langchain_core.messages import (\n",
    "    AIMessage,\n",
    "    BaseMessage,\n",
    "    ChatMessage,\n",
    "    FunctionMessage,\n",
    "    HumanMessage,\n",
    ")\n",
    "from langchain.tools.render import format_tool_to_openai_function\n",
    "from langchain_core.prompts import ChatPromptTemplate, MessagesPlaceholder\n",
    "from langgraph.graph import END, StateGraph\n",
    "from langgraph.prebuilt.tool_executor import ToolExecutor, ToolInvocation"
   ]
  },
  {
   "cell_type": "code",
   "execution_count": null,
   "metadata": {},
   "outputs": [],
   "source": []
  }
 ],
 "metadata": {
  "kernelspec": {
   "display_name": "Python 3",
   "language": "python",
   "name": "python3"
  },
  "language_info": {
   "codemirror_mode": {
    "name": "ipython",
    "version": 3
   },
   "file_extension": ".py",
   "mimetype": "text/x-python",
   "name": "python",
   "nbconvert_exporter": "python",
   "pygments_lexer": "ipython3",
   "version": "3.10.12"
  }
 },
 "nbformat": 4,
 "nbformat_minor": 2
}
